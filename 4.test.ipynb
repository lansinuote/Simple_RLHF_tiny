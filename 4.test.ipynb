{
 "cells": [
  {
   "cell_type": "code",
   "execution_count": 1,
   "id": "11abe3e8",
   "metadata": {},
   "outputs": [
    {
     "name": "stderr",
     "output_type": "stream",
     "text": [
      "/root/miniconda3/envs/cuda117/lib/python3.10/site-packages/tqdm/auto.py:21: TqdmWarning: IProgress not found. Please update jupyter and ipywidgets. See https://ipywidgets.readthedocs.io/en/stable/user_install.html\n",
      "  from .autonotebook import tqdm as notebook_tqdm\n"
     ]
    },
    {
     "data": {
      "text/plain": [
       "(tensor([   1,    1,    0, 9178,   32,   47]),\n",
       " tensor([0, 0, 1, 1, 1, 1]),\n",
       " '<pad><pad><s>how are you')"
      ]
     },
     "execution_count": 1,
     "metadata": {},
     "output_type": "execute_result"
    }
   ],
   "source": [
    "import torch\n",
    "import random\n",
    "import math\n",
    "\n",
    "from util import TokenizerUtil\n",
    "\n",
    "tokenizer = TokenizerUtil()\n",
    "\n",
    "input_ids, _ = tokenizer.encode('how are you', max_length=6)\n",
    "\n",
    "input_ids, attention_mask = tokenizer.pad_to_left(input_ids)\n",
    "\n",
    "input_ids, attention_mask, tokenizer.decode(input_ids)"
   ]
  },
  {
   "cell_type": "code",
   "execution_count": 2,
   "id": "5e7480ae",
   "metadata": {},
   "outputs": [],
   "source": [
    "from transformers import AutoModelForCausalLM\n",
    "\n",
    "model_actor = AutoModelForCausalLM.from_pretrained('model/rlhf',\n",
    "                                                   torch_dtype=torch.float16,\n",
    "                                                   device_map='cuda')"
   ]
  },
  {
   "cell_type": "code",
   "execution_count": 3,
   "id": "fc404ebc",
   "metadata": {},
   "outputs": [
    {
     "data": {
      "text/plain": [
       "(8,\n",
       " {'prompt': 'Human: context= CREATE TABLE table_2102898_1 (viewers__in_millions_ VARCHAR, broadcast_date VARCHAR) question= On broadcast date is 28march1970, how many people tuned in? Assistant:',\n",
       "  'chosen': 'SELECT viewers__in_millions_ FROM table_2102898_1 WHERE broadcast_date = \"28March1970\"',\n",
       "  'rejected': '',\n",
       "  'response': 'SELECT viewers__in_millions_ FROM table_2102898_1 WHERE broadcast_date = \"28March1970\"'})"
      ]
     },
     "execution_count": 3,
     "metadata": {},
     "output_type": "execute_result"
    }
   ],
   "source": [
    "import json\n",
    "\n",
    "with open('dataset/eval.json') as f:\n",
    "    lines = f.readlines()\n",
    "\n",
    "lines = random.sample(lines, k=8)\n",
    "lines = [json.loads(i) for i in lines]\n",
    "\n",
    "len(lines), lines[0]"
   ]
  },
  {
   "cell_type": "code",
   "execution_count": 4,
   "id": "2ceb369d",
   "metadata": {},
   "outputs": [
    {
     "name": "stdout",
     "output_type": "stream",
     "text": [
      "select count(VIEWERS__IN_ILLIONS_) from TABLE_2102898_1 where PROD_DATE = \"28march1970\"</s>\n",
      "SELECT viewers__in_millions_ FROM table_2102898_1 WHERE broadcast_date = \"28March1970\"\n",
      "===============\n",
      "select count(WON) from TABLE_15467476_3 where TRIBS_AGAINST = \"49\"</s>\n",
      "SELECT won FROM table_15467476_3 WHERE tries_against = \"49\"\n",
      "===============\n",
      "select sum(WEEK) from TABLE_NAME_47 where ATTENDANCE = 72 offset 985</s>\n",
      "SELECT MAX(week) FROM table_name_47 WHERE attendance = \"72,855\"\n",
      "===============\n",
      "select SCORE from TABLE_22893781_6 where LOCATION_ATTENDANCE = \"mADISON square garden 18,828\"</s>\n",
      "SELECT score FROM table_22893781_6 WHERE location_attendance = \"Madison Square Garden 18,828\"\n",
      "===============\n",
      "select FAS from TABLE_NAME_12 where SEASON = 2009–2010 2009–2010 2009_2009_2009_2009_2009_2009_2009_2009_2009_2009_2009_2009_2009_2009_2009_2009_2009_2009_2009_2009_2009_2009_2009_2009_2009_2009_2009_2009_2009_2009_2009_2009_2009_2009_2009_2009_2009_2009_2009_2009_2009_2009_2009_2009_2009_2009_2009_2009_2009_2009_2009_2009_2009_2009_2009\n",
      "SELECT fixtures_sec FROM table_name_12 WHERE season = \"2009–2010\"\n",
      "===============\n",
      "select count(ATTENDANCE) from TABLE_NAME_14 where DATE = \"December 11, 1954\"</s>\n",
      "SELECT COUNT(attendance) FROM table_name_14 WHERE date = \"december 11, 1954\"\n",
      "===============\n",
      "select SCORE from TABLE_NAME_79 where DATE = \"JULY 29, 1990\"</s>\n",
      "SELECT score FROM table_name_79 WHERE date = \"july 29, 1990\"\n",
      "===============\n",
      "select TO_PAR from TABLE_NAME_14 where COUNTRY = \"UNITED STATES\" and SCORE = 71 - 70 = 141</s>\n",
      "SELECT to_par FROM table_name_14 WHERE country = \"united states\" AND score = 71 - 70 = 141\n",
      "===============\n"
     ]
    }
   ],
   "source": [
    "for data in lines:\n",
    "    input_ids, _ = tokenizer.encode(data['prompt'])\n",
    "    input_ids, attention_mask = tokenizer.pad_to_left(input_ids)\n",
    "\n",
    "    input_ids = input_ids.unsqueeze(0).to('cuda')\n",
    "    attention_mask = attention_mask.unsqueeze(0).to('cuda')\n",
    "\n",
    "    generate = model_actor.generate(input_ids=input_ids,\n",
    "                                    attention_mask=attention_mask,\n",
    "                                    max_length=256,\n",
    "                                    pad_token_id=tokenizer.pad_token_id,\n",
    "                                    eos_token_id=tokenizer.eos_token_id)\n",
    "\n",
    "    generate = generate[0, 128:].to('cpu')\n",
    "\n",
    "    print(tokenizer.decode(generate))\n",
    "    print(data['chosen'])\n",
    "    print('===============')"
   ]
  }
 ],
 "metadata": {
  "kernelspec": {
   "display_name": "Python [conda env:cuda117]",
   "language": "python",
   "name": "conda-env-cuda117-py"
  },
  "language_info": {
   "codemirror_mode": {
    "name": "ipython",
    "version": 3
   },
   "file_extension": ".py",
   "mimetype": "text/x-python",
   "name": "python",
   "nbconvert_exporter": "python",
   "pygments_lexer": "ipython3",
   "version": "3.10.13"
  }
 },
 "nbformat": 4,
 "nbformat_minor": 5
}
