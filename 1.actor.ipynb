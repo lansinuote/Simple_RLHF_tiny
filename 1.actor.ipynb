{
 "cells": [
  {
   "cell_type": "code",
   "execution_count": 1,
   "id": "812564dd",
   "metadata": {},
   "outputs": [
    {
     "name": "stderr",
     "output_type": "stream",
     "text": [
      "/root/miniconda3/envs/cuda117/lib/python3.10/site-packages/tqdm/auto.py:21: TqdmWarning: IProgress not found. Please update jupyter and ipywidgets. See https://ipywidgets.readthedocs.io/en/stable/user_install.html\n",
      "  from .autonotebook import tqdm as notebook_tqdm\n"
     ]
    },
    {
     "data": {
      "text/plain": [
       "(tensor([   0, 9178,   32,    2]), tensor([1, 1, 1, 1]), '<s>how are</s>')"
      ]
     },
     "execution_count": 1,
     "metadata": {},
     "output_type": "execute_result"
    }
   ],
   "source": [
    "import torch\n",
    "import random\n",
    "\n",
    "from util import TokenizerUtil\n",
    "\n",
    "tokenizer = TokenizerUtil()\n",
    "\n",
    "input_ids, attention_mask = tokenizer.encode('how are you', max_length=4)\n",
    "\n",
    "input_ids, attention_mask, tokenizer.decode(input_ids)"
   ]
  },
  {
   "cell_type": "code",
   "execution_count": 2,
   "id": "c137a8c5",
   "metadata": {
    "scrolled": true
   },
   "outputs": [
    {
     "data": {
      "text/plain": [
       "(3750,\n",
       " {'input_ids': tensor([[    0, 33837,    35,  ...,     1,     1,     1],\n",
       "          [    0, 33837,    35,  ...,     1,     1,     1],\n",
       "          [    0, 33837,    35,  ...,     1,     1,     1],\n",
       "          [    0, 33837,    35,  ...,     1,     1,     1]]),\n",
       "  'attention_mask': tensor([[1, 1, 1,  ..., 0, 0, 0],\n",
       "          [1, 1, 1,  ..., 0, 0, 0],\n",
       "          [1, 1, 1,  ..., 0, 0, 0],\n",
       "          [1, 1, 1,  ..., 0, 0, 0]]),\n",
       "  'labels': tensor([[    0, 33837,    35,  ...,     1,     1,     1],\n",
       "          [    0, 33837,    35,  ...,     1,     1,     1],\n",
       "          [    0, 33837,    35,  ...,     1,     1,     1],\n",
       "          [    0, 33837,    35,  ...,     1,     1,     1]])})"
      ]
     },
     "execution_count": 2,
     "metadata": {},
     "output_type": "execute_result"
    }
   ],
   "source": [
    "from datasets import load_dataset\n",
    "from transformers import default_data_collator\n",
    "\n",
    "dataset = load_dataset('json', data_files='dataset/train.json', split='train')\n",
    "\n",
    "#2,4,4切分,取第0部分\n",
    "dataset = dataset.select(range(15000))\n",
    "\n",
    "\n",
    "def f(data):\n",
    "    #随机生成两种回答\n",
    "    if random.random() > 0.5:\n",
    "        data['chosen'] = data['chosen'].swapcase()\n",
    "    data = data['prompt'] + data['chosen']\n",
    "\n",
    "    input_ids, attention_mask = tokenizer.encode(data)\n",
    "\n",
    "    return {\n",
    "        'input_ids': input_ids,\n",
    "        'attention_mask': attention_mask,\n",
    "        'labels': input_ids.clone()\n",
    "    }\n",
    "\n",
    "\n",
    "dataset = dataset.map(f, remove_columns=dataset.column_names)\n",
    "\n",
    "loader = torch.utils.data.DataLoader(dataset,\n",
    "                                     collate_fn=default_data_collator,\n",
    "                                     batch_size=4,\n",
    "                                     shuffle=True,\n",
    "                                     drop_last=True)\n",
    "\n",
    "len(loader), next(iter(loader))"
   ]
  },
  {
   "cell_type": "code",
   "execution_count": 3,
   "id": "8f753020",
   "metadata": {},
   "outputs": [
    {
     "name": "stderr",
     "output_type": "stream",
     "text": [
      "Detected kernel version 3.10.0, which is below the recommended minimum of 5.5.0; this can cause the process to hang. It is recommended to upgrade the kernel to the minimum version or higher.\n"
     ]
    }
   ],
   "source": [
    "from transformers import AutoModelForCausalLM\n",
    "from accelerate import Accelerator\n",
    "\n",
    "model_actor = AutoModelForCausalLM.from_pretrained('model/facebook/opt-350m',\n",
    "                                                   dropout=0.0)\n",
    "model_actor.train()\n",
    "\n",
    "optimizer = torch.optim.Adam(model_actor.parameters(), lr=1e-4)\n",
    "\n",
    "accelerator = Accelerator(mixed_precision='fp16')\n",
    "\n",
    "loader, model_actor, optimizer = accelerator.prepare(loader, model_actor,\n",
    "                                                     optimizer)"
   ]
  },
  {
   "cell_type": "code",
   "execution_count": 4,
   "id": "6d76f82c",
   "metadata": {
    "scrolled": false
   },
   "outputs": [
    {
     "name": "stdout",
     "output_type": "stream",
     "text": [
      "99 3750 0.2825024127960205\n",
      "Human: context= CREATE TABLE table_name_97 (position VARCHAR, nation VARCHAR) nation VARCHAR) question= What nation have gold than 1 gold?? less silver medals? Assistant:select MATION from TABLE_NAME_87 where GOLD = 1 and 4VER = \"</s>\n",
      "199 3750 0.3939495384693146\n",
      "Human: context= CREATE TABLE table_name887_1 (result_in_the VEGER, date_title_air VARCHAR, question= What is number is the episode has aired on on 4, 1990? Assistant:select no(no_in_series) FROM table_228973_5 WHERE original_air_date = \"April 27, 1999\"</s>\n",
      "299 3750 0.6533144116401672\n",
      "Human: context= CREATE TABLE table_name_43 (yearzyme VEGER, rank Vclassname VARCHAR) question= What least of by playerer? a is of the in Assistant:select SUM(enrollment) FROM table_name_5 WHERE teamnicknickname = \"wildcats\"</s>\n",
      "399 3750 0.4442545771598816\n",
      "Human: context= CREATE TABLE table_name_51 (scores__ V INT V_classARCHAR, i VARCHAR) question= What isHSAA class class is you gameals with at the Assistant:select IHSAA_CLASS__FOT from_ from TABLE_NAME_24 where MCOT = \"GELOL\"</s>\n",
      "499 3750 0.6917958855628967\n",
      "Human: context= CREATE TABLE table_name_72 (score INTEGER, namerant VARCHAR) year VARCHAR) question= What is the average year when when with with when than 2 points and Assistant:select MAX(year) FROM table_name_20 WHERE entrant = \"gyrell AND AND points > 14</s>\n",
      "599 3750 0.5179394483566284\n",
      "Human: context= CREATE TABLE table_name_9 (opp VARCHAR, record_ARCHAR) record VARCHAR) question= When Date the, when the is \"-?? and??? and when duration is the???? Assistant:SELECT DATE from TABLE_NAME_52 where COMPL = \"TILCEE ON, LKE_EDELARKRE\" and durationREUS = \"T MIN 34 S\"</s>\n",
      "699 3750 0.3174099028110504\n",
      "Human: context= CREATE TABLE table_name_50 (opp_EGER, opponent VARCHAR) question= What is the average number with for has a time of 1:00? Assistant:select max(GAME) from TABLE_NAME_78 where TIME = 22:44\"</s>\n",
      "799 3750 0.3375553786754608\n",
      "Human: context= CREATE TABLE table_name_54 (dateendance VARCHAR, date Vnumber VARCHAR) date_ARCHAR) question= What many people did were in with the game at the'? the 7? Assistant:SELECT attendanceOUNT(attendance) FROM table_name_59 WHERE game_site = \"vter stadium stadium\" AND week = 1</s>\n",
      "899 3750 0.42193135619163513\n",
      "Human: context= CREATE TABLE table_name_62 (date INTEGER, name VARCHAR, name VARCHAR) question= What is the sum rank for the nation States with with more than 0 bronze,, Assistant:SELECT min(RANK) from TABLE_NAME_55 where NATION = \"UNITED STATES\" and BRONZE > 4</s>\n",
      "999 3750 0.42442530393600464\n",
      "Human: context= CREATE TABLE table_name_5 (date Vtype VARCHAR, year VARCHAR) year VARCHAR) question= What model number has a Frequency of 0.hz, a voltage of 0.5?0.5? Assistant:SELECT MODEL_NUMBER from TABLE_NAME_57 where FREQUENCY = \"2000MZ\" and VV = = \"0.75-1.2\"</s>\n"
     ]
    }
   ],
   "source": [
    "for i, data in enumerate(loader):\n",
    "    out = model_actor(**data)\n",
    "    accelerator.backward(out.loss)\n",
    "    accelerator.clip_grad_norm_(model_actor.parameters(), 1.0)\n",
    "    optimizer.step()\n",
    "    optimizer.zero_grad()\n",
    "\n",
    "    if (i + 1) % 100 == 0:\n",
    "        print(i, len(loader), out.loss.item())\n",
    "\n",
    "        logits = out.logits[0].argmax(1)\n",
    "        print(tokenizer.decode(logits))\n",
    "\n",
    "    if i == 1000:\n",
    "        break\n",
    "\n",
    "model_actor.save_pretrained('model/actor')"
   ]
  }
 ],
 "metadata": {
  "kernelspec": {
   "display_name": "Python [conda env:cuda117]",
   "language": "python",
   "name": "conda-env-cuda117-py"
  },
  "language_info": {
   "codemirror_mode": {
    "name": "ipython",
    "version": 3
   },
   "file_extension": ".py",
   "mimetype": "text/x-python",
   "name": "python",
   "nbconvert_exporter": "python",
   "pygments_lexer": "ipython3",
   "version": "3.10.13"
  }
 },
 "nbformat": 4,
 "nbformat_minor": 5
}
