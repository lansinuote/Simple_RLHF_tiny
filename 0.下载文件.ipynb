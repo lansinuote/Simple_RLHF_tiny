{
 "cells": [
  {
   "cell_type": "code",
   "execution_count": null,
   "id": "5847ed42",
   "metadata": {},
   "outputs": [],
   "source": [
    "# from transformers import AutoTokenizer\n",
    "\n",
    "# name = 'facebook/opt-350m'\n",
    "# AutoTokenizer.from_pretrained(name).save_pretrained('tokenizer/' + name)"
   ]
  },
  {
   "cell_type": "code",
   "execution_count": null,
   "id": "f9ea4617",
   "metadata": {},
   "outputs": [],
   "source": [
    "from transformers import AutoModelForCausalLM\n",
    "\n",
    "name = 'facebook/opt-350m'\n",
    "AutoModelForCausalLM.from_pretrained(name).save_pretrained('model/' + name)"
   ]
  },
  {
   "cell_type": "code",
   "execution_count": null,
   "id": "f2162abb",
   "metadata": {},
   "outputs": [],
   "source": [
    "from transformers import AutoModel\n",
    "\n",
    "name = 'facebook/opt-125m'\n",
    "AutoModel.from_pretrained(name).save_pretrained('model/' + name)"
   ]
  }
 ],
 "metadata": {
  "kernelspec": {
   "display_name": "Python [conda env:cuda117]",
   "language": "python",
   "name": "conda-env-cuda117-py"
  },
  "language_info": {
   "codemirror_mode": {
    "name": "ipython",
    "version": 3
   },
   "file_extension": ".py",
   "mimetype": "text/x-python",
   "name": "python",
   "nbconvert_exporter": "python",
   "pygments_lexer": "ipython3",
   "version": "3.10.13"
  }
 },
 "nbformat": 4,
 "nbformat_minor": 5
}
